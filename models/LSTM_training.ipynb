{
 "cells": [
  {
   "cell_type": "code",
   "execution_count": 22,
   "id": "2137ac6e",
   "metadata": {},
   "outputs": [
    {
     "name": "stdout",
     "output_type": "stream",
     "text": [
      "The autoreload extension is already loaded. To reload it, use:\n",
      "  %reload_ext autoreload\n"
     ]
    }
   ],
   "source": [
    "%load_ext autoreload\n",
    "%autoreload 2\n",
    "\n",
    "import numpy as np\n",
    "import matplotlib.pyplot as plt\n",
    "import os\n",
    "import sys\n",
    "import glob\n",
    "\n",
    "import torch\n",
    "import torch.nn as nn\n",
    "from torch.utils.data import Dataset, DataLoader\n",
    "import torchvision\n",
    "import torchvision.transforms as transforms\n",
    "from PIL import Image\n",
    "from PIL import ImageFile\n",
    "\n",
    "sys.path.append( '../' )\n",
    "from ConvVAE import ConvVAE\n",
    "from utils.Dataset import Rollout_Dataset, to_latent"
   ]
  },
  {
   "cell_type": "code",
   "execution_count": 2,
   "id": "e52a18bd",
   "metadata": {},
   "outputs": [
    {
     "data": {
      "text/plain": [
       "<All keys matched successfully>"
      ]
     },
     "execution_count": 2,
     "metadata": {},
     "output_type": "execute_result"
    }
   ],
   "source": [
    "VAE_model = ConvVAE(n_channel=3, z_dim=128)\n",
    "VAE_model.load_state_dict(torch.load(\"./weights/segmodel_rollouts.pt\"))"
   ]
  },
  {
   "cell_type": "code",
   "execution_count": 3,
   "id": "7bafb738",
   "metadata": {},
   "outputs": [
    {
     "name": "stdout",
     "output_type": "stream",
     "text": [
      "S_Rollouts lenght: 97\n",
      "D_Rollouts lenght: 100\n",
      "s_idxs lenght: 82\n",
      "s_cidxs lenght: 15\n",
      "d_idxs lenght: 85\n",
      "d_cidxs lenght: 15\n"
     ]
    }
   ],
   "source": [
    "validation_prop = 0.15\n",
    "\n",
    "s_paths = glob.glob(os.path.join(\"../S_Rollouts_11/*.npz\"))\n",
    "d_paths = glob.glob(os.path.join(\"../D_Rollouts_11/*.npz\"))\n",
    "print(f\"S_Rollouts lenght: {len(s_paths)}\")\n",
    "print(f\"D_Rollouts lenght: {len(d_paths)}\")\n",
    "n_static_examples = len(s_paths)\n",
    "n_dinamic_examples = len(d_paths)\n",
    "\n",
    "s_idxs = np.random.choice(n_static_examples-1, size=round(n_static_examples*(1-validation_prop)),\n",
    "                          replace=False)\n",
    "s_cidxs = np.array(list(set(np.arange(n_static_examples)) - set(s_idxs)))\n",
    "\n",
    "d_idxs = np.random.choice(n_dinamic_examples-1, size=round(n_dinamic_examples*(1-validation_prop)),\n",
    "                          replace=False)\n",
    "d_cidxs = np.array(list(set(np.arange(n_dinamic_examples))- set(d_idxs)))\n",
    "\n",
    "print(f\"s_idxs lenght: {s_idxs.shape[0]}\")\n",
    "print(f\"s_cidxs lenght: {s_cidxs.shape[0]}\")\n",
    "\n",
    "print(f\"d_idxs lenght: {d_idxs.shape[0]}\")\n",
    "print(f\"d_cidxs lenght: {d_cidxs.shape[0]}\")\n",
    "\n",
    "del s_paths\n",
    "del d_paths"
   ]
  },
  {
   "cell_type": "code",
   "execution_count": 34,
   "id": "a9bec9de",
   "metadata": {},
   "outputs": [],
   "source": [
    "s_path = \"../S_Rollouts_11\"\n",
    "d_path = \"../D_Rollouts_11\"\n",
    "seq_len = 3\n",
    "buffer_size = 3 # number of files\n",
    "is_complt_states = True\n",
    "transform = transforms.Compose([transforms.Resize((80, 160)), transforms.ToTensor()])\n",
    "\n",
    "s_train_dataset = Rollout_Dataset(s_path, s_idxs, seq_len, buffer_size, is_complt_states, transform=transform)\n",
    "s_val_dataset = Rollout_Dataset(s_path, s_cidxs, seq_len, buffer_size, is_complt_states, transform=transform)\n",
    "\n",
    "batch_size = 32\n",
    "s_train_dataloader = DataLoader(s_train_dataset, batch_size=batch_size, shuffle=False)\n",
    "s_val_dataloader = DataLoader(s_val_dataset, batch_size=batch_size, shuffle=False)"
   ]
  },
  {
   "cell_type": "code",
   "execution_count": 38,
   "id": "f164ee41",
   "metadata": {},
   "outputs": [
    {
     "name": "stdout",
     "output_type": "stream",
     "text": [
      "torch.Size([32, 3, 6])\n",
      "torch.Size([32, 3, 6])\n"
     ]
    },
    {
     "ename": "TypeError",
     "evalue": "expected np.ndarray (got list)",
     "output_type": "error",
     "traceback": [
      "\u001b[0;31m---------------------------------------------------------------------------\u001b[0m",
      "\u001b[0;31mTypeError\u001b[0m                                 Traceback (most recent call last)",
      "\u001b[0;32m<ipython-input-38-e2118a517226>\u001b[0m in \u001b[0;36m<module>\u001b[0;34m\u001b[0m\n\u001b[1;32m      4\u001b[0m     \u001b[0mcomplt_states\u001b[0m\u001b[0;34m,\u001b[0m \u001b[0mnext_complt_states\u001b[0m \u001b[0;34m=\u001b[0m \u001b[0mX_tr\u001b[0m\u001b[0;34m[\u001b[0m\u001b[0;34m-\u001b[0m\u001b[0;36m2\u001b[0m\u001b[0;34m:\u001b[0m\u001b[0;34m]\u001b[0m \u001b[0;32mif\u001b[0m \u001b[0mlen\u001b[0m\u001b[0;34m(\u001b[0m\u001b[0mX_tr\u001b[0m\u001b[0;34m)\u001b[0m \u001b[0;34m>\u001b[0m \u001b[0;36m5\u001b[0m \u001b[0;32melse\u001b[0m \u001b[0;32mNone\u001b[0m\u001b[0;34m,\u001b[0m \u001b[0;32mNone\u001b[0m\u001b[0;34m\u001b[0m\u001b[0;34m\u001b[0m\u001b[0m\n\u001b[1;32m      5\u001b[0m     \u001b[0mprint\u001b[0m\u001b[0;34m(\u001b[0m\u001b[0mcomplt_states\u001b[0m\u001b[0;34m[\u001b[0m\u001b[0;36m0\u001b[0m\u001b[0;34m]\u001b[0m\u001b[0;34m.\u001b[0m\u001b[0mshape\u001b[0m\u001b[0;34m)\u001b[0m\u001b[0;34m\u001b[0m\u001b[0;34m\u001b[0m\u001b[0m\n\u001b[0;32m----> 6\u001b[0;31m     \u001b[0mstates\u001b[0m \u001b[0;34m=\u001b[0m \u001b[0mto_latent\u001b[0m\u001b[0;34m(\u001b[0m\u001b[0mVAE_model\u001b[0m\u001b[0;34m,\u001b[0m \u001b[0mstates\u001b[0m\u001b[0;34m,\u001b[0m \u001b[0mnext_states\u001b[0m\u001b[0;34m,\u001b[0m \u001b[0mcomplt_states\u001b[0m\u001b[0;34m,\u001b[0m \u001b[0mnext_complt_states\u001b[0m\u001b[0;34m)\u001b[0m\u001b[0;34m\u001b[0m\u001b[0;34m\u001b[0m\u001b[0m\n\u001b[0m\u001b[1;32m      7\u001b[0m     \u001b[0mprint\u001b[0m\u001b[0;34m(\u001b[0m\u001b[0mstates\u001b[0m\u001b[0;34m.\u001b[0m\u001b[0mshape\u001b[0m\u001b[0;34m)\u001b[0m\u001b[0;34m\u001b[0m\u001b[0;34m\u001b[0m\u001b[0m\n\u001b[1;32m      8\u001b[0m     \u001b[0;32mbreak\u001b[0m\u001b[0;34m\u001b[0m\u001b[0;34m\u001b[0m\u001b[0m\n",
      "\u001b[0;32m~/Documents/Carla/CARLA_0.9.11/PythonAPI/Codigo/Tesis/utils/Dataset.py\u001b[0m in \u001b[0;36mto_latent\u001b[0;34m(vae_model, states, next_states, complt_states, next_complt_states)\u001b[0m\n\u001b[1;32m     23\u001b[0m     \u001b[0mnext_states\u001b[0m \u001b[0;34m=\u001b[0m \u001b[0mtorch\u001b[0m\u001b[0;34m.\u001b[0m\u001b[0mcat\u001b[0m\u001b[0;34m(\u001b[0m\u001b[0mnext_zs\u001b[0m\u001b[0;34m,\u001b[0m \u001b[0maxis\u001b[0m\u001b[0;34m=\u001b[0m\u001b[0;36m1\u001b[0m\u001b[0;34m)\u001b[0m \u001b[0;31m# (B, S, Z_dim)\u001b[0m\u001b[0;34m\u001b[0m\u001b[0;34m\u001b[0m\u001b[0m\n\u001b[1;32m     24\u001b[0m     \u001b[0;32mif\u001b[0m \u001b[0mcomplt_states\u001b[0m\u001b[0;34m:\u001b[0m\u001b[0;34m\u001b[0m\u001b[0;34m\u001b[0m\u001b[0m\n\u001b[0;32m---> 25\u001b[0;31m         \u001b[0mcomplt_states\u001b[0m \u001b[0;34m=\u001b[0m \u001b[0mtorch\u001b[0m\u001b[0;34m.\u001b[0m\u001b[0mfrom_numpy\u001b[0m\u001b[0;34m(\u001b[0m\u001b[0mcomplt_states\u001b[0m\u001b[0;34m)\u001b[0m\u001b[0;34m\u001b[0m\u001b[0;34m\u001b[0m\u001b[0m\n\u001b[0m\u001b[1;32m     26\u001b[0m         \u001b[0mnext_complt_states\u001b[0m \u001b[0;34m=\u001b[0m \u001b[0mtorch\u001b[0m\u001b[0;34m.\u001b[0m\u001b[0mfrom_numpy\u001b[0m\u001b[0;34m(\u001b[0m\u001b[0mnext_complt_states\u001b[0m\u001b[0;34m)\u001b[0m\u001b[0;34m\u001b[0m\u001b[0;34m\u001b[0m\u001b[0m\n\u001b[1;32m     27\u001b[0m         \u001b[0mstates\u001b[0m \u001b[0;34m=\u001b[0m \u001b[0mtorch\u001b[0m\u001b[0;34m.\u001b[0m\u001b[0mcat\u001b[0m\u001b[0;34m(\u001b[0m\u001b[0;34m(\u001b[0m\u001b[0mstates\u001b[0m\u001b[0;34m,\u001b[0m \u001b[0mcomplt_states\u001b[0m\u001b[0;34m)\u001b[0m\u001b[0;34m,\u001b[0m \u001b[0maxis\u001b[0m\u001b[0;34m=\u001b[0m\u001b[0;36m2\u001b[0m\u001b[0;34m)\u001b[0m \u001b[0;31m# (B, S, Z_dim+compl_dim)\u001b[0m\u001b[0;34m\u001b[0m\u001b[0;34m\u001b[0m\u001b[0m\n",
      "\u001b[0;31mTypeError\u001b[0m: expected np.ndarray (got list)"
     ]
    }
   ],
   "source": [
    "for i, X_tr in enumerate(s_train_dataloader):\n",
    "    print(X_tr[-2].shape)\n",
    "    states, actions, rewards, next_states, terminals = X_tr if len(X_tr)==5 else X_tr[:-2]\n",
    "    complt_states, next_complt_states = X_tr[-2:] if len(X_tr) > 5 else None, None\n",
    "    print(complt_states[0].shape)\n",
    "    states = to_latent(VAE_model, states, next_states, complt_states, next_complt_states)\n",
    "    print(states.shape)\n",
    "    break\n",
    "    \n",
    "    "
   ]
  },
  {
   "cell_type": "code",
   "execution_count": null,
   "id": "7126d60a",
   "metadata": {},
   "outputs": [],
   "source": []
  },
  {
   "cell_type": "code",
   "execution_count": null,
   "id": "7ffa7efa",
   "metadata": {},
   "outputs": [],
   "source": []
  }
 ],
 "metadata": {
  "kernelspec": {
   "display_name": "Python 3",
   "language": "python",
   "name": "python3"
  },
  "language_info": {
   "codemirror_mode": {
    "name": "ipython",
    "version": 3
   },
   "file_extension": ".py",
   "mimetype": "text/x-python",
   "name": "python",
   "nbconvert_exporter": "python",
   "pygments_lexer": "ipython3",
   "version": "3.7.10"
  }
 },
 "nbformat": 4,
 "nbformat_minor": 5
}
