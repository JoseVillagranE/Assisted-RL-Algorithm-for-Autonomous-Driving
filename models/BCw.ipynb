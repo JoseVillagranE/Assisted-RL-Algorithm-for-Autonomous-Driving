{
 "cells": [
  {
   "cell_type": "code",
   "execution_count": 1,
   "id": "3b7fb6b4",
   "metadata": {},
   "outputs": [],
   "source": [
    "import sys\n",
    "sys.path.append(\"../\")\n",
    "\n",
    "import numpy as np\n",
    "import matplotlib.pyplot as plt\n",
    "import glob\n",
    "from PIL import Image\n",
    "import torch\n",
    "from torchvision import transforms\n",
    "\n",
    "from BC import BC\n",
    "from ExperienceReplayMemory import RandomDequeMemory"
   ]
  },
  {
   "cell_type": "code",
   "execution_count": 2,
   "id": "2c490399",
   "metadata": {},
   "outputs": [
    {
     "name": "stdout",
     "output_type": "stream",
     "text": [
      "Load Replay memory\n"
     ]
    }
   ],
   "source": [
    "queue_capacity = 100000 \n",
    "rw_weights = None\n",
    "batch_size = 64\n",
    "filename = \"MCw-1.npy\"\n",
    "aux_rm = RandomDequeMemory(queue_capacity, rw_weights, batch_size)\n",
    "aux_rm.load_rm(filename)"
   ]
  },
  {
   "cell_type": "code",
   "execution_count": 3,
   "id": "8bb3426c",
   "metadata": {},
   "outputs": [],
   "source": [
    "aux_rm.set_batch_size(aux_rm.get_memory_size())"
   ]
  },
  {
   "cell_type": "code",
   "execution_count": 4,
   "id": "26e4faac",
   "metadata": {},
   "outputs": [],
   "source": [
    "states, actions, rewards, next_states, dones = aux_rm.get_batch_for_replay()"
   ]
  },
  {
   "cell_type": "code",
   "execution_count": 6,
   "id": "ec55b89a",
   "metadata": {},
   "outputs": [
    {
     "name": "stdout",
     "output_type": "stream",
     "text": [
      "Loading VAE weights..\n"
     ]
    }
   ],
   "source": [
    "state_dim = 192 # z + wp_feat\n",
    "action_space = 2\n",
    "batch_size = 64\n",
    "epochs = 10000\n",
    "n_channel = 3\n",
    "h_image_in = 80\n",
    "w_image_in = 160\n",
    "type_AC = \"VAE\"\n",
    "z_dim = 128\n",
    "beta = 1.0\n",
    "weights_path= \"./weights/segmodel_expert_samples_sem_369.pt\"\n",
    "is_freeze_params = True\n",
    "linear_layers = []\n",
    "max_memory_size = 1000000\n",
    "rw_weights = None,\n",
    "device = \"cuda:0\" if torch.cuda.is_available() else \"cpu\"\n",
    "\n",
    "trainer = BC(states=None, \n",
    "             actions=None,\n",
    "             state_dim=state_dim,\n",
    "             action_space=action_space,\n",
    "             batch_size=batch_size,\n",
    "             epochs=epochs,\n",
    "             n_channel=n_channel,\n",
    "             h_image_in=h_image_in,\n",
    "             w_image_in=w_image_in,\n",
    "             type_AC=type_AC,\n",
    "             z_dim=z_dim,\n",
    "             beta=beta,\n",
    "             VAE_weights_path=weights_path,\n",
    "             freeze_params=is_freeze_params,\n",
    "             linear_layers=linear_layers,\n",
    "             max_memory_size=max_memory_size,\n",
    "             rw_weights=rw_weights,\n",
    "             device=device)\n",
    "\n",
    "trainer.replay_memory.create_rm(np.array(states), np.array(actions))"
   ]
  },
  {
   "cell_type": "code",
   "execution_count": 7,
   "id": "502b6b23",
   "metadata": {},
   "outputs": [],
   "source": [
    "loss = trainer.update(saved_file=\"./weights/VAEBCw-1.pt\", get_loss=True)"
   ]
  },
  {
   "cell_type": "code",
   "execution_count": 8,
   "id": "68b3b813",
   "metadata": {},
   "outputs": [
    {
     "data": {
      "text/plain": [
       "Text(0.5, 1.0, 'Behavior Cloning Training')"
      ]
     },
     "execution_count": 8,
     "metadata": {},
     "output_type": "execute_result"
    },
    {
     "data": {
      "image/png": "[encoded data removed]",
      "text/plain": [
       "<Figure size 1152x288 with 1 Axes>"
      ]
     },
     "metadata": {
      "needs_background": "light"
     },
     "output_type": "display_data"
    }
   ],
   "source": [
    "plt.figure(figsize=(16, 4))\n",
    "plt.plot(loss)\n",
    "plt.xlabel(\"Epoch\", fontsize=12, fontweight=\"bold\")\n",
    "plt.ylabel(\"Loss\", fontsize=12, fontweight=\"bold\")\n",
    "plt.title(\"Behavior Cloning Training\", fontsize=16, fontweight=\"bold\")"
   ]
  },
  {
   "cell_type": "code",
   "execution_count": 9,
   "id": "aed01fa8",
   "metadata": {},
   "outputs": [],
   "source": [
    "actions_pred = None\n",
    "for i, state in enumerate(states):\n",
    "    action = trainer.predict(state, extract_feat=False)\n",
    "    if i == 0:\n",
    "        actions_pred = action\n",
    "    else:\n",
    "        actions_pred = np.vstack((actions_pred, action))"
   ]
  },
  {
   "cell_type": "code",
   "execution_count": 11,
   "id": "f95960e8",
   "metadata": {},
   "outputs": [
    {
     "data": {
      "text/plain": [
       "Text(0.5, 0.0, 'Frame')"
      ]
     },
     "execution_count": 11,
     "metadata": {},
     "output_type": "execute_result"
    },
    {
     "data": {
      "image/png": "[encoded data removed]",
      "text/plain": [
       "<Figure size 1152x288 with 4 Axes>"
      ]
     },
     "metadata": {
      "needs_background": "light"
     },
     "output_type": "display_data"
    }
   ],
   "source": [
    "fig, axes = plt.subplots(2, 2, figsize=(16, 4))\n",
    "axes = axes.flatten()\n",
    "\n",
    "axes[0].plot(np.array(actions)[:, 0], alpha=.5)\n",
    "axes[1].plot(np.array(actions)[:, 1], alpha=.5)\n",
    "axes[2].plot(actions_pred[:, 0], alpha=.5)\n",
    "axes[3].plot(actions_pred[:, 1], alpha=.5)\n",
    "\n",
    "\n",
    "mean_steer = np.mean(actions_pred[:, 0])\n",
    "mean_throttle = np.mean(actions_pred[:, 1])\n",
    "\n",
    "axes[0].set_title(f\"Steer [mean: {mean_steer:.3f}]\", fontsize=12, fontweight=\"bold\")\n",
    "axes[1].set_title(f\"Throttle [mean: {mean_throttle:.3f}]\", fontsize=12, fontweight=\"bold\")\n",
    "\n",
    "axes[0].set_ylim([-1.0, 1.0])\n",
    "axes[1].set_ylim([0, 1.3])\n",
    "axes[2].set_ylim([-1.0, 1.0])\n",
    "axes[3].set_ylim([0, 1.3])\n",
    "\n",
    "axes[0].set_ylabel(\"Labels\", fontsize=12, fontweight=\"bold\")\n",
    "axes[2].set_ylabel(\"Predictions\", fontsize=12, fontweight=\"bold\")\n",
    "\n",
    "axes[2].hlines(mean_steer, 0, actions_pred[:, 0].shape[0], linestyles=\"dashed\", colors='red', alpha=1.)\n",
    "axes[3].hlines(mean_throttle, 0, actions_pred[:, 1].shape[0], linestyles=\"dashed\", colors='red', alpha=1.)\n",
    "\n",
    "fig.text(0.5, 0., 'Frame', ha='center', fontsize=12, fontweight=\"bold\")"
   ]
  },
  {
   "cell_type": "code",
   "execution_count": null,
   "id": "05bd2c29",
   "metadata": {},
   "outputs": [],
   "source": []
  }
 ],
 "metadata": {
  "kernelspec": {
   "display_name": "Python 3",
   "language": "python",
   "name": "python3"
  },
  "language_info": {
   "codemirror_mode": {
    "name": "ipython",
    "version": 3
   },
   "file_extension": ".py",
   "mimetype": "text/x-python",
   "name": "python",
   "nbconvert_exporter": "python",
   "pygments_lexer": "ipython3",
   "version": "3.7.6"
  }
 },
 "nbformat": 4,
 "nbformat_minor": 5
}
