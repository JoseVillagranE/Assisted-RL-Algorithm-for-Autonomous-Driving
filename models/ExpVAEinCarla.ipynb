{
 "cells": [
  {
   "cell_type": "code",
   "execution_count": 1,
   "id": "norman-bookmark",
   "metadata": {},
   "outputs": [],
   "source": [
    "import argparse\n",
    "import torch\n",
    "from torchvision import datasets, transforms\n",
    "import os\n",
    "import glob\n",
    "import numpy as np\n",
    "import cv2\n",
    "from PIL import Image\n",
    "from PIL import ImageFile\n",
    "from torchvision.utils import save_image, make_grid\n",
    "from torch.utils.data import Dataset, DataLoader\n",
    "import sys\n",
    "sys.path.append('../')\n",
    "\n",
    "from ConvVAE import ConvVAE\n",
    "from gradcam import GradCAM"
   ]
  },
  {
   "cell_type": "code",
   "execution_count": 2,
   "id": "solved-halifax",
   "metadata": {},
   "outputs": [],
   "source": [
    "class Carla_dataset(Dataset):\n",
    "    \n",
    "    def __init__(self, path, transforms=None, start_i=0, end_i=-1):\n",
    "        \n",
    "        self.path = path\n",
    "        self.transforms = transforms\n",
    "        self.start_i = start_i\n",
    "        self.end_i = end_i\n",
    "        \n",
    "        self.data = self.read_data(path)\n",
    "    \n",
    "    def __len__(self):\n",
    "        return len(self.data)\n",
    "    \n",
    "    def __getitem__(self, index):\n",
    "        image = self.data[index]\n",
    "        label = image.split(\"/\")[-1].split(\".\")[0]\n",
    "        ImageFile.LOAD_TRUNCATED_IMAGES = True\n",
    "        image = Image.open(image).convert('RGB')\n",
    "        if self.transforms:\n",
    "            image = self.transforms(image)\n",
    "        return image, label\n",
    "    \n",
    "    def read_data(self, path):\n",
    "        images = glob.glob(os.path.join(path, \"*.png\"))\n",
    "        images = sorted(images, key=lambda name: int(name.split('/')[-1][:-4]))\n",
    "        if self.end_i == -1:\n",
    "            images = images[self.start_i:]\n",
    "        else:\n",
    "            images = images[self.start_i:self.end_i]\n",
    "        return images"
   ]
  },
  {
   "cell_type": "code",
   "execution_count": 3,
   "id": "agricultural-biology",
   "metadata": {},
   "outputs": [],
   "source": [
    "### Save attention maps  ###\n",
    "def save_cam(image, filename, gcam):\n",
    "    gcam = gcam - np.min(gcam)\n",
    "    gcam = gcam / np.max(gcam)\n",
    "    h, w, d = image.shape\n",
    "    gcam = cv2.resize(gcam, (w, h))\n",
    "    gcam = cv2.applyColorMap(np.uint8(255 * gcam), cv2.COLORMAP_JET)\n",
    "    gcam = np.asarray(gcam, dtype=np.float) + \\\n",
    "        np.asarray(image, dtype=np.float)\n",
    "    gcam = 255 * gcam / np.max(gcam)\n",
    "    gcam = np.uint8(gcam)\n",
    "    cv2.imwrite(filename, gcam)"
   ]
  },
  {
   "cell_type": "code",
   "execution_count": 7,
   "id": "legendary-teaching",
   "metadata": {},
   "outputs": [],
   "source": [
    "seed = 1\n",
    "batch_size = 64\n",
    "z_dim = 128\n",
    "n_channel = 3\n",
    "beta = 1\n",
    "im_path = \"./attention_maps_seg_2/\""
   ]
  },
  {
   "cell_type": "code",
   "execution_count": 8,
   "id": "british-thirty",
   "metadata": {},
   "outputs": [
    {
     "name": "stdout",
     "output_type": "stream",
     "text": [
      "cuda available\n"
     ]
    }
   ],
   "source": [
    "cuda = torch.cuda.is_available()\n",
    "if cuda:\n",
    "    print('cuda available')\n",
    "else:\n",
    "    print(\"only cpu\")"
   ]
  },
  {
   "cell_type": "code",
   "execution_count": 9,
   "id": "saving-archives",
   "metadata": {},
   "outputs": [
    {
     "name": "stdout",
     "output_type": "stream",
     "text": [
      "cuda available\n",
      "torch.Size([1, 55, 256, 3, 8])\n"
     ]
    },
    {
     "name": "stderr",
     "output_type": "stream",
     "text": [
      "/home/josev/anaconda3/lib/python3.7/site-packages/ipykernel_launcher.py:8: DeprecationWarning: `np.float` is a deprecated alias for the builtin `float`. To silence this warning, use `float` by itself. Doing this will not modify any behavior and is safe. If you specifically wanted the numpy scalar type, use `np.float64` here.\n",
      "Deprecated in NumPy 1.20; for more details and guidance: https://numpy.org/devdocs/release/1.20.0-notes.html#deprecations\n",
      "  \n",
      "/home/josev/anaconda3/lib/python3.7/site-packages/ipykernel_launcher.py:9: DeprecationWarning: `np.float` is a deprecated alias for the builtin `float`. To silence this warning, use `float` by itself. Doing this will not modify any behavior and is safe. If you specifically wanted the numpy scalar type, use `np.float64` here.\n",
      "Deprecated in NumPy 1.20; for more details and guidance: https://numpy.org/devdocs/release/1.20.0-notes.html#deprecations\n",
      "  if __name__ == '__main__':\n"
     ]
    }
   ],
   "source": [
    "cuda = torch.cuda.is_available()\n",
    "if cuda:\n",
    "    print('cuda available')\n",
    "device = torch.device(\"cuda:0\" if cuda else \"cpu\")\n",
    "\n",
    "torch.manual_seed(seed)\n",
    "trans = transforms.Compose([transforms.Resize((80, 160)), transforms.ToTensor()])\n",
    "kwargs = {'num_workers': 1, 'pin_memory': True} if cuda else {}\n",
    "\n",
    "dataset = Carla_dataset(\"../Expert_samples_sem\", trans, start_i=590, end_i=645)\n",
    "\n",
    "loader = torch.utils.data.DataLoader(\n",
    "                                    dataset,\n",
    "                                    batch_size=batch_size,\n",
    "                                    shuffle=False,\n",
    "                                    **kwargs)\n",
    "\n",
    "model = ConvVAE(n_channel, z_dim, beta).to(device)\n",
    "model.load_state_dict(torch.load(\"./weights/segmodel_expert_samples_sem_all.pt\", map_location=device))\n",
    "mu_avg, logvar_avg = 0, 1\n",
    "gcam = GradCAM(model, target_layer='encoder.6', cuda=cuda) \n",
    "test_index=0\n",
    "for batch_idx, (x, _) in enumerate(loader):\n",
    "    model.eval()\n",
    "    x = x.to(device)\n",
    "    x_rec, mu, logvar = gcam.forward(x)\n",
    "\n",
    "    model.zero_grad()\n",
    "    gcam.backward(mu, logvar, mu_avg, logvar_avg)\n",
    "    gcam_map = gcam.generate()\n",
    "\n",
    "    ## Visualize and save attention maps  ##\n",
    "    for i in range(x.size(0)):\n",
    "        raw_image = x[i] * 255.0\n",
    "        ndarr = raw_image.permute(1, 2, 0).cpu().byte().numpy()\n",
    "        im = Image.fromarray(ndarr.astype(np.uint8))\n",
    "        if not os.path.exists(im_path):\n",
    "            os.mkdir(im_path)\n",
    "        im.save(os.path.join(im_path,\n",
    "                         \"{}-{}-origin.png\".format(test_index, \"carla\")))\n",
    "\n",
    "        file_path = os.path.join(im_path,\n",
    "                             \"{}-{}-attmap.png\".format(test_index, \"carla\"))\n",
    "        r_im = np.asarray(im)\n",
    "        save_cam(r_im, file_path, gcam_map[i].squeeze().cpu().data.numpy())\n",
    "        test_index += 1"
   ]
  },
  {
   "cell_type": "code",
   "execution_count": 21,
   "id": "210d7459",
   "metadata": {},
   "outputs": [
    {
     "name": "stdout",
     "output_type": "stream",
     "text": [
      "('', ConvVAE(\n",
      "  (encoder): Sequential(\n",
      "    (0): Conv2d(3, 32, kernel_size=(4, 4), stride=(2, 2))\n",
      "    (1): ReLU()\n",
      "    (2): Conv2d(32, 64, kernel_size=(4, 4), stride=(2, 2))\n",
      "    (3): ReLU()\n",
      "    (4): Conv2d(64, 128, kernel_size=(4, 4), stride=(2, 2))\n",
      "    (5): ReLU()\n",
      "    (6): Conv2d(128, 256, kernel_size=(4, 4), stride=(2, 2))\n",
      "    (7): ReLU()\n",
      "  )\n",
      "  (decoder_input): Linear(in_features=128, out_features=6144, bias=True)\n",
      "  (decoder): Sequential(\n",
      "    (0): ConvTranspose2d(256, 128, kernel_size=(4, 4), stride=(2, 2))\n",
      "    (1): ReLU()\n",
      "    (2): ConvTranspose2d(128, 64, kernel_size=(4, 4), stride=(2, 2))\n",
      "    (3): ReLU()\n",
      "    (4): ConvTranspose2d(64, 32, kernel_size=(5, 5), stride=(2, 2))\n",
      "    (5): ReLU()\n",
      "    (6): ConvTranspose2d(32, 3, kernel_size=(4, 4), stride=(2, 2))\n",
      "    (7): Sigmoid()\n",
      "  )\n",
      "  (mu): Linear(in_features=6144, out_features=128, bias=True)\n",
      "  (logvar): Linear(in_features=6144, out_features=128, bias=True)\n",
      "  (recons_loss): BCELoss()\n",
      "))\n",
      "('encoder', Sequential(\n",
      "  (0): Conv2d(3, 32, kernel_size=(4, 4), stride=(2, 2))\n",
      "  (1): ReLU()\n",
      "  (2): Conv2d(32, 64, kernel_size=(4, 4), stride=(2, 2))\n",
      "  (3): ReLU()\n",
      "  (4): Conv2d(64, 128, kernel_size=(4, 4), stride=(2, 2))\n",
      "  (5): ReLU()\n",
      "  (6): Conv2d(128, 256, kernel_size=(4, 4), stride=(2, 2))\n",
      "  (7): ReLU()\n",
      "))\n",
      "('encoder.0', Conv2d(3, 32, kernel_size=(4, 4), stride=(2, 2)))\n",
      "('encoder.1', ReLU())\n",
      "('encoder.2', Conv2d(32, 64, kernel_size=(4, 4), stride=(2, 2)))\n",
      "('encoder.3', ReLU())\n",
      "('encoder.4', Conv2d(64, 128, kernel_size=(4, 4), stride=(2, 2)))\n",
      "('encoder.5', ReLU())\n",
      "('encoder.6', Conv2d(128, 256, kernel_size=(4, 4), stride=(2, 2)))\n",
      "('encoder.7', ReLU())\n",
      "('decoder_input', Linear(in_features=128, out_features=6144, bias=True))\n",
      "('decoder', Sequential(\n",
      "  (0): ConvTranspose2d(256, 128, kernel_size=(4, 4), stride=(2, 2))\n",
      "  (1): ReLU()\n",
      "  (2): ConvTranspose2d(128, 64, kernel_size=(4, 4), stride=(2, 2))\n",
      "  (3): ReLU()\n",
      "  (4): ConvTranspose2d(64, 32, kernel_size=(5, 5), stride=(2, 2))\n",
      "  (5): ReLU()\n",
      "  (6): ConvTranspose2d(32, 3, kernel_size=(4, 4), stride=(2, 2))\n",
      "  (7): Sigmoid()\n",
      "))\n",
      "('decoder.0', ConvTranspose2d(256, 128, kernel_size=(4, 4), stride=(2, 2)))\n",
      "('decoder.1', ReLU())\n",
      "('decoder.2', ConvTranspose2d(128, 64, kernel_size=(4, 4), stride=(2, 2)))\n",
      "('decoder.3', ReLU())\n",
      "('decoder.4', ConvTranspose2d(64, 32, kernel_size=(5, 5), stride=(2, 2)))\n",
      "('decoder.5', ReLU())\n",
      "('decoder.6', ConvTranspose2d(32, 3, kernel_size=(4, 4), stride=(2, 2)))\n",
      "('decoder.7', Sigmoid())\n",
      "('mu', Linear(in_features=6144, out_features=128, bias=True))\n",
      "('logvar', Linear(in_features=6144, out_features=128, bias=True))\n",
      "('recons_loss', BCELoss())\n"
     ]
    }
   ],
   "source": [
    "for module in model.named_modules():\n",
    "    print(module)"
   ]
  },
  {
   "cell_type": "code",
   "execution_count": 13,
   "id": "3ed446ed",
   "metadata": {},
   "outputs": [],
   "source": [
    "import torch.nn as nn\n",
    "encoderx = nn.Sequential(\n",
    "            nn.Conv2d(1, 64, kernel_size=4, stride=2, padding=1),\n",
    "            nn.ReLU(),\n",
    "            nn.Conv2d(64, 128, kernel_size=4, stride=2, padding=1),\n",
    "            nn.ReLU(),\n",
    "            nn.Linear(6272, 1024),\n",
    "            nn.ReLU()\n",
    "        )"
   ]
  },
  {
   "cell_type": "code",
   "execution_count": 20,
   "id": "41a7a304",
   "metadata": {},
   "outputs": [
    {
     "name": "stdout",
     "output_type": "stream",
     "text": [
      "\n",
      "0\n",
      "1\n",
      "2\n",
      "3\n",
      "4\n",
      "5\n"
     ]
    }
   ],
   "source": [
    "for module in encoderx.named_modules():\n",
    "    print(module[0])"
   ]
  },
  {
   "cell_type": "code",
   "execution_count": null,
   "id": "7f7a2249",
   "metadata": {},
   "outputs": [],
   "source": []
  }
 ],
 "metadata": {
  "kernelspec": {
   "display_name": "Python 3",
   "language": "python",
   "name": "python3"
  },
  "language_info": {
   "codemirror_mode": {
    "name": "ipython",
    "version": 3
   },
   "file_extension": ".py",
   "mimetype": "text/x-python",
   "name": "python",
   "nbconvert_exporter": "python",
   "pygments_lexer": "ipython3",
   "version": "3.7.6"
  }
 },
 "nbformat": 4,
 "nbformat_minor": 5
}
